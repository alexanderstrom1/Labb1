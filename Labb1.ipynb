{
 "cells": [
  {
   "cell_type": "code",
   "execution_count": 2,
   "metadata": {},
   "outputs": [
    {
     "name": "stdout",
     "output_type": "stream",
     "text": [
      "+--+--+--+--+--+--+--+--+--+--+--+--+--+--+--+--+\n",
      "|                 |           |  |              |\n",
      "+  +--+--+--+--+  +  +--+  +  +  +  +--+--+  +  +\n",
      "|  |     |     |  |  |     |  |  |  |     |  |  |\n",
      "+  +  +  +  +  +  +--+  +--+  +  +  +  +--+  +  +\n",
      "|     |  |  |        |     |     |     |     |  |\n",
      "+  +--+  +--+--+--+  +--+  +--+--+--+  +  +--+--+\n",
      "|  |     |     |  |     |              |        |\n",
      "+--+  +--+  +  +  +--+  +  +--+--+--+--+--+--+  +\n",
      "|     |     |  |  |     |     |                 |\n",
      "+  +--+  +--+  +  +  +--+  +--+  +--+--+--+--+  +\n",
      "|     |     |  |  |  |     |     |     |        |\n",
      "+  +  +  +--+  +  +  +  +--+  +--+  +  +  +--+--+\n",
      "|  |     |     |     |     |  |     |  |  |     |\n",
      "+  +--+--+  +--+  +--+--+--+  +  +--+  +  +  +  +\n",
      "|  |        |                 |     |        |  |\n",
      "+--+--+--+--+--+--+--+--+--+--+--+--+--+--+--+--+\n",
      "\n",
      "\n"
     ]
    }
   ],
   "source": [
    "from random import shuffle, randrange\n",
    " \n",
    "def make_maze(w = 16, h = 8):\n",
    "    vis = [[0] * w + [1] for _ in range(h)] + [[1] * (w + 1)]\n",
    "    ver = [[\"|  \"] * w + ['|'] for _ in range(h)] + [[]]\n",
    "    hor = [[\"+--\"] * w + ['+'] for _ in range(h + 1)]\n",
    " \n",
    "    def walk(x, y):\n",
    "        vis[y][x] = 1\n",
    " \n",
    "        d = [(x - 1, y), (x, y + 1), (x + 1, y), (x, y - 1)]\n",
    "        shuffle(d)\n",
    "        for (xx, yy) in d:\n",
    "            if vis[yy][xx]: continue\n",
    "            if xx == x: hor[max(y, yy)][x] = \"+  \"\n",
    "            if yy == y: ver[y][max(x, xx)] = \"   \"\n",
    "            walk(xx, yy)\n",
    " \n",
    "    walk(randrange(w), randrange(h))\n",
    " \n",
    "    s = \"\"\n",
    "    for (a, b) in zip(hor, ver):\n",
    "        s += ''.join(a + ['\\n'] + b + ['\\n'])\n",
    "    return s\n",
    " \n",
    "if __name__ == '__main__':\n",
    "    print(make_maze())"
   ]
  },
  {
   "cell_type": "code",
   "execution_count": 1,
   "metadata": {},
   "outputs": [
    {
     "name": "stdout",
     "output_type": "stream",
     "text": [
      "fsndjhns\n"
     ]
    }
   ],
   "source": [
    "print ('fsndjhns')"
   ]
  },
  {
   "cell_type": "code",
   "execution_count": null,
   "metadata": {},
   "outputs": [],
   "source": []
  }
 ],
 "metadata": {
  "kernelspec": {
   "display_name": "Python 3",
   "language": "python",
   "name": "python3"
  },
  "language_info": {
   "codemirror_mode": {
    "name": "ipython",
    "version": 3
   },
   "file_extension": ".py",
   "mimetype": "text/x-python",
   "name": "python",
   "nbconvert_exporter": "python",
   "pygments_lexer": "ipython3",
   "version": "3.8.3"
  }
 },
 "nbformat": 4,
 "nbformat_minor": 4
}
